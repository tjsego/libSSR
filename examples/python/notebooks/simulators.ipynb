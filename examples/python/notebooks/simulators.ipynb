{
 "cells": [
  {
   "cell_type": "markdown",
   "metadata": {},
   "source": [
    "Demonstrates comparing results between BasiCO and libRoadRunner. \n",
    "\n",
    "Credit for Frank Bergmann for contributing to development of the simulator API and providing a BasiCO implementation. \n",
    "\n",
    "Requires copasi-basico[ssr], libroadrunner, and matplotlib."
   ]
  },
  {
   "cell_type": "code",
   "execution_count": 2,
   "metadata": {},
   "outputs": [],
   "source": [
    "from matplotlib import pyplot as plt\n",
    "import numpy as np\n",
    "from roadrunner import RoadRunner\n",
    "from typing import Dict, List, Union\n",
    "\n",
    "import libssr\n",
    "from libssr.SSRSimAPI import SSRSimAPI"
   ]
  },
  {
   "cell_type": "markdown",
   "metadata": {},
   "source": [
    "# BasiCO Simulator Interface Implementation"
   ]
  },
  {
   "cell_type": "code",
   "execution_count": 3,
   "metadata": {},
   "outputs": [],
   "source": [
    "from basico.ssr.CopasiSSR import CopasiSSR"
   ]
  },
  {
   "cell_type": "markdown",
   "metadata": {},
   "source": [
    "# RoadRunner Simulator Interface Implementation"
   ]
  },
  {
   "cell_type": "code",
   "execution_count": 4,
   "metadata": {},
   "outputs": [],
   "source": [
    "class RoadRunnerSSR(SSRSimAPI):\n",
    "\n",
    "    def __init__(self):\n",
    "        self.rr = None\n",
    "\n",
    "    def load_model(self, *args, **kwargs):\n",
    "        self.rr = RoadRunner(*args)\n",
    "\n",
    "    def produce_results(self, names: List[str], times: List[float], sample_info: Union[int, List[Dict[str, float]]]) -> Dict[str, np.ndarray]:\n",
    "        if isinstance(sample_info, int):\n",
    "            sample_size = sample_info\n",
    "            do_sampling = False\n",
    "        else:\n",
    "            sample_size = len(sample_info)\n",
    "            do_sampling = True\n",
    "\n",
    "        results = {n: np.ndarray((sample_size, len(times)), dtype=float) for n in names}\n",
    "        for i in range(sample_size):\n",
    "            self.rr.resetAll()\n",
    "            if do_sampling:\n",
    "                for n, v in sample_info[i].items():\n",
    "                    self.rr[n] = v\n",
    "            res = self.rr.simulate(times=times)\n",
    "            for n in names:\n",
    "                results[n][i, :] = res[f'[{n}]']\n",
    "        return results"
   ]
  },
  {
   "cell_type": "markdown",
   "metadata": {},
   "source": [
    "## Prep Simulators"
   ]
  },
  {
   "cell_type": "code",
   "execution_count": 5,
   "metadata": {},
   "outputs": [],
   "source": [
    "sims = []\n",
    "sim_labels = []\n",
    "\n",
    "with open('model_normal.xml', 'r') as f:\n",
    "    model_normal_fun = f.read()"
   ]
  },
  {
   "cell_type": "code",
   "execution_count": 6,
   "metadata": {},
   "outputs": [],
   "source": [
    "sim_cp = CopasiSSR()\n",
    "sim_cp.load_model(model_normal_fun)\n",
    "sims.append(sim_cp)\n",
    "sim_labels.append('BasicCO')"
   ]
  },
  {
   "cell_type": "code",
   "execution_count": 7,
   "metadata": {},
   "outputs": [],
   "source": [
    "sim_rr = RoadRunnerSSR()\n",
    "sim_rr.load_model(model_normal_fun)\n",
    "sims.append(sim_rr)\n",
    "sim_labels.append('RoadRunner')"
   ]
  },
  {
   "cell_type": "markdown",
   "metadata": {},
   "source": [
    "# Generate Samples"
   ]
  },
  {
   "cell_type": "code",
   "execution_count": 8,
   "metadata": {},
   "outputs": [],
   "source": [
    "model_names = ['S', 'I', 'R', 'V']\n",
    "time_final = 10.0\n",
    "num_steps = 100\n",
    "sample_size = 1000\n",
    "\n",
    "results_times = np.linspace(0., time_final, num_steps)\n",
    "results = [sim.produce_results(model_names, results_times, sample_size) for sim in sims]"
   ]
  },
  {
   "cell_type": "markdown",
   "metadata": {},
   "source": [
    "# Test Reproducibility"
   ]
  },
  {
   "cell_type": "code",
   "execution_count": 9,
   "metadata": {},
   "outputs": [],
   "source": [
    "err_samples = [libssr.test_reproducibility(res)[0] for res in results]"
   ]
  },
  {
   "cell_type": "code",
   "execution_count": 10,
   "metadata": {},
   "outputs": [
    {
     "data": {
      "image/png": "[encoded data removed]",
      "text/plain": [
       "<Figure size 500x400 with 1 Axes>"
      ]
     },
     "metadata": {},
     "output_type": "display_data"
    }
   ],
   "source": [
    "fig, ax = plt.subplots(1, 1, layout='compressed', figsize=(5.0, 4.0))\n",
    "\n",
    "for sim_name, res in zip(sim_labels, err_samples):\n",
    "    ax.hist(res, density=True, label=sim_name, alpha=0.25)\n",
    "ax.legend(loc='center left', bbox_to_anchor=(1, 0.5))\n",
    "_ = ax.set_xlabel('EFECT Error')"
   ]
  },
  {
   "cell_type": "markdown",
   "metadata": {},
   "source": [
    "# Generate EFECT Reports"
   ]
  },
  {
   "cell_type": "code",
   "execution_count": 11,
   "metadata": {},
   "outputs": [],
   "source": [
    "eval_num = 100\n",
    "efect_reports: List[libssr.EFECTReport] = []\n",
    "\n",
    "size_export = int(sample_size // 2)\n",
    "\n",
    "for i, res in enumerate(results):\n",
    "\n",
    "    ecf_evals = np.ndarray((num_steps, len(model_names), eval_num, 2), dtype=float)\n",
    "    ecf_tval = np.ndarray((num_steps, len(model_names)), dtype=float)\n",
    "    for j, name in enumerate(model_names):\n",
    "        res_name = res[name]\n",
    "        for k in range(num_steps):\n",
    "            sample_i = res_name[:size_export, k]\n",
    "            ecf_tval[k, j] = libssr.eval_final(sample_i)\n",
    "            ecf_evals[k, j, :, :] = libssr.ecf(sample_i, libssr.get_eval_info_times(eval_num, ecf_tval[k, j]))\n",
    "\n",
    "    sdata = libssr.EFECTReport.create(\n",
    "        variable_names=model_names,\n",
    "        simulation_times=results_times,\n",
    "        sample_size=size_export,\n",
    "        ecf_evals=ecf_evals,\n",
    "        ecf_tval=ecf_tval,\n",
    "        ecf_nval=eval_num,\n",
    "        error_metric_mean=np.mean(err_samples[i]),\n",
    "        error_metric_stdev=np.std(err_samples[i]),\n",
    "        sig_figs=16\n",
    "    )\n",
    "    efect_reports.append(sdata)"
   ]
  },
  {
   "cell_type": "markdown",
   "metadata": {},
   "source": [
    "# Compare Samples"
   ]
  },
  {
   "cell_type": "code",
   "execution_count": 12,
   "metadata": {},
   "outputs": [
    {
     "name": "stdout",
     "output_type": "stream",
     "text": [
      "BasicCO/RoadRunner: Reproduced (0.17075936526778046, 1.0)\n"
     ]
    }
   ],
   "source": [
    "sig_level = 0.05\n",
    "\n",
    "efect_errors = {}\n",
    "pvals = {}\n",
    "\n",
    "for i in range(len(err_samples[:-1])):\n",
    "    efect_errors[sim_labels[i]] = {}\n",
    "    pvals[sim_labels[i]] = {}\n",
    "\n",
    "    sdata_i = efect_reports[i]\n",
    "    for j in range(i+1, len(err_samples)):\n",
    "        sdata_j = efect_reports[j]\n",
    "        halfdata_j = {n: v[:sample_size // 2, :] for n, v in results[j].items()}\n",
    "        err = 0.0\n",
    "        for ni, n in enumerate(sdata_i.variable_names):\n",
    "            for k in range(sdata_i.simulation_times.shape[0]):\n",
    "                eval_t = libssr.get_eval_info_times(sdata_i.ecf_nval, sdata_i.ecf_tval[k, ni])\n",
    "                ecf_i = sdata_i.ecf_evals[k, ni, :, :]\n",
    "                ecf_j = libssr.ecf(halfdata_j[n][:, k], eval_t)\n",
    "                err = max(err, libssr.ecf_compare(ecf_i, ecf_j))\n",
    "        pval = libssr.pval(err_samples[i], err)\n",
    "\n",
    "        efect_errors[sim_labels[i]][sim_labels[j]] = err\n",
    "        pvals[sim_labels[i]][sim_labels[j]] = pval\n",
    "\n",
    "        rejected = pval <= sig_level\n",
    "        print(f'{sim_labels[i]}/{sim_labels[j]}:', 'Not Reproduced' if rejected else 'Reproduced', f'({err}, {pval})')"
   ]
  }
 ],
 "metadata": {
  "kernelspec": {
   "display_name": "ssr-basico-roadrunner",
   "language": "python",
   "name": "python3"
  },
  "language_info": {
   "codemirror_mode": {
    "name": "ipython",
    "version": 3
   },
   "file_extension": ".py",
   "mimetype": "text/x-python",
   "name": "python",
   "nbconvert_exporter": "python",
   "pygments_lexer": "ipython3",
   "version": "3.10.17"
  }
 },
 "nbformat": 4,
 "nbformat_minor": 2
}
